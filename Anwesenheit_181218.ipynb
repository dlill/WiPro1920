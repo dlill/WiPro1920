{
 "cells": [
  {
   "cell_type": "markdown",
   "metadata": {},
   "source": [
    "# Anwesenheitsaufgaben für 18.12.2018"
   ]
  },
  {
   "cell_type": "code",
   "execution_count": 8,
   "metadata": {},
   "outputs": [],
   "source": [
    "import numpy as np\n",
    "import matplotlib.pyplot as plt\n",
    "%matplotlib inline"
   ]
  },
  {
   "cell_type": "markdown",
   "metadata": {},
   "source": [
    "## Plotting und Fitting mit Numpy\n",
    "\n",
    "Heute soll das Plotting und Fitting mit Numpy wiederholt werden.\n",
    "\n",
    "### Teil 1 (Plotten von Funktionen)\n",
    "\n",
    "Bei einem Experiment werden Messdaten genommen. Die Theorie sagt vorraus, dass die Untergrundereignisse mit einem Polynom 2. Grades beschrieben werden können. \n",
    "$$\n",
    "\\text{pol2}(x; a, b, c) = ax^2 + bx + c\n",
    "$$\n",
    "Die Signalereignisse können durch eine Gaußverteilung beschrieben werden\n",
    "$$\n",
    "\\text{gauss}(x; n, \\mu, \\sigma) = n \\cdot e^{-\\frac{(x-\\mu)^2}{2 \\sigma^2}}\n",
    "$$\n",
    "\n",
    "Definiert die Funktionen `pol2(x, a, b, c)` und `gauss(x, n, mu, sigma)`, welche die oben erwähnten Funktionen implementieren. Außerdem soll eine Funktion `model(x, a, x0, c, mu, sigma)` definiert werden, welche die Summe des Polynoms und der Gaußverteilung bildet."
   ]
  },
  {
   "cell_type": "code",
   "execution_count": null,
   "metadata": {},
   "outputs": [],
   "source": [
    "def pol2(x, a, b, c):\n",
    "    # TODO\n",
    "\n",
    "def gauss(x, n, mu, sigma):\n",
    "    # TODO\n",
    "\n",
    "def model(x, a, b, c, n, mu, sigma):\n",
    "    # TODO"
   ]
  },
  {
   "cell_type": "markdown",
   "metadata": {},
   "source": [
    "Bevor das Experiment durchgeführt wird, soll das Verhalten des Modells bezüglich des Erwartungswertes $\\mu$ der Gaußverteilung untersucht werden. Dazu soll das Modell für $x$-Werte zwischen $0$ und $10$ für $\\mu=1, 4, 6, 8$ geplottet werden. Für die anderen Werte soll hier $a=-0.02$, $b=0.1$, $c=3$, $n=4$, $\\sigma=0.5$ verwendet werden. Der Plot soll mit einer Legende und Achsenbeschriftungen versehen werden."
   ]
  },
  {
   "cell_type": "code",
   "execution_count": null,
   "metadata": {
    "scrolled": false
   },
   "outputs": [],
   "source": [
    "# TODO"
   ]
  },
  {
   "cell_type": "markdown",
   "metadata": {},
   "source": [
    "### Teil 2 (Plotten von Daten)\n",
    "\n",
    "Es wurden nun Daten genommen. Die Daten wurden in der Datei `data.csv` gespeichert und enthalten pro Zeile einen $x$ und $y$ Wert. Die Datei kann mit `np.loadtxt()` eingelesen werden. Um Daten zu plotten muss man sie in $x$ und $y$ Werte aufteilen, dann man sie ganz normal mit `plt.plot(x_werte, y_werte)` plotten. Es macht Sinn die Daten als Punkte darzustellen und nicht mit einer Linie zu verbinden, vor allem wenn die Werte (wie auch hier) nicht nach $x$ Wert geordnet sind."
   ]
  },
  {
   "cell_type": "code",
   "execution_count": null,
   "metadata": {},
   "outputs": [],
   "source": [
    "# TODO"
   ]
  },
  {
   "cell_type": "markdown",
   "metadata": {},
   "source": [
    "### Teil 3 (Fitten von Daten)\n",
    "\n",
    "Nun sollen die Daten mit dem Modell von oben gefittet werden um die Parameter $a, b, c, n, \\mu, \\sigma$ zu bestimmen.\n",
    "\n",
    "Ein Fit mit einer beliebigen Funktion kann mit `scipy.optimize.curve_fit(f, xdata, ydata)` durchgeführt werden (Methode der kleinsten Fehlerquadrate). Dabei muss `f` die folgende Eigenschaft haben: `ydata = f(xdata, *params)`, d.h. der erste Parameter des Modells $f$ der $x$ Wert sein muss. Die anderen Parameter werden optimiert. Mehr Informationen gibt es in der scipy Dokumentation [hier](https://docs.scipy.org/doc/scipy/reference/generated/scipy.optimize.curve_fit.html).\n",
    "\n",
    "Die Funktion `curve_fit` gibt ein tuple mit zwei Werten zurück, `popt, pcov = curve_fit(...)`. `popt` enthält die optimalen Werte für die Parameter und `pcov` enthält Informationen zu den Fehlern (das werden wir hier ignorieren).\n",
    "\n",
    "Ihr sollt die Daten Fitten und dann das Modell mit den Daten in einen Plot zeichnen. Außerdem soll das Polynom für den Untergrund mit einer gestrichelten Linie eingezeichnet werden.\n",
    "\n",
    "Hinweis: Da der Fit nicht ganz trivial ist und 6 Parameter besitzt kann es sein, dass nicht das globale Optimum gefunden wird (sprich, das Modell passt einigermaßen zu den Datenpunkten, aber der Computer findet keine bessere Lösung, welche es aber gibt). Um das zu verhindern können Startwerte für die Parameter gesetzt werden. Für $a, b, c$ sollen die gleichen Werte wie oben verwendet werden. Was sind gute Startwerte für $n, \\mu, \\sigma$? Die Startwerte müssen in eine Liste (Reihenfolge beachten!) geschrieben werden und mit dem Parameter $p0$ der Fitfunktion übergeben werden (`curve_fit(..., p0=[a, b, c, ...])`). Macht den Fit mit und ohne die Startwerte. Gibt es einen Unterschied?"
   ]
  },
  {
   "cell_type": "code",
   "execution_count": null,
   "metadata": {},
   "outputs": [],
   "source": [
    "# TODO"
   ]
  }
 ],
 "metadata": {
  "kernelspec": {
   "display_name": "Python 3",
   "language": "python",
   "name": "python3"
  },
  "language_info": {
   "codemirror_mode": {
    "name": "ipython",
    "version": 3
   },
   "file_extension": ".py",
   "mimetype": "text/x-python",
   "name": "python",
   "nbconvert_exporter": "python",
   "pygments_lexer": "ipython3",
   "version": "3.7.4"
  }
 },
 "nbformat": 4,
 "nbformat_minor": 2
}
